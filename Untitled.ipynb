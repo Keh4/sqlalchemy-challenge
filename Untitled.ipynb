{
 "cells": [
  {
   "cell_type": "code",
   "execution_count": 18,
   "id": "3e572796",
   "metadata": {},
   "outputs": [],
   "source": [
    "import numpy as np\n",
    "import pandas as pd\n",
    "import datetime as dt"
   ]
  },
  {
   "cell_type": "code",
   "execution_count": 19,
   "id": "2a76aa4a",
   "metadata": {},
   "outputs": [],
   "source": [
    "# Python SQL toolkit and Object Relational Mapper\n",
    "import sqlalchemy\n",
    "from sqlalchemy.ext.automap import automap_base\n",
    "from sqlalchemy.orm import Session\n",
    "from sqlalchemy import create_engine, func\n",
    "from sqlalchemy import create_engine, inspect\n",
    "from flask import Flask, jsonify\n"
   ]
  },
  {
   "cell_type": "code",
   "execution_count": 20,
   "id": "624fb313",
   "metadata": {},
   "outputs": [],
   "source": [
    "# create engine to hawaii.sqlite\n",
    "engine = create_engine(\"sqlite:///hawaii.sqlite\")"
   ]
  },
  {
   "cell_type": "code",
   "execution_count": 21,
   "id": "33d37673",
   "metadata": {},
   "outputs": [],
   "source": [
    "Base = automap_base()\n",
    "# reflect the tables\n",
    "Base.prepare(engine, reflect=True)\n"
   ]
  },
  {
   "cell_type": "code",
   "execution_count": 22,
   "id": "212daf53",
   "metadata": {},
   "outputs": [
    {
     "data": {
      "text/plain": [
       "['measurement', 'station']"
      ]
     },
     "execution_count": 22,
     "metadata": {},
     "output_type": "execute_result"
    }
   ],
   "source": [
    "Base.classes.keys()"
   ]
  },
  {
   "cell_type": "code",
   "execution_count": 23,
   "id": "c091ece9",
   "metadata": {},
   "outputs": [],
   "source": [
    "# Save references to each table\n",
    "measurement = Base.classes.measurement\n",
    "station = Base.classes.station"
   ]
  },
  {
   "cell_type": "code",
   "execution_count": 24,
   "id": "331eb495",
   "metadata": {},
   "outputs": [],
   "source": [
    "session = Session(engine)"
   ]
  },
  {
   "cell_type": "code",
   "execution_count": 25,
   "id": "0c2fb477",
   "metadata": {},
   "outputs": [
    {
     "name": "stdout",
     "output_type": "stream",
     "text": [
      "The highest, lowest and average tempurature observed in 2017 in this analysis is [(87.0, 58.0, 74.14387974230493)] respectively.\n"
     ]
    }
   ],
   "source": [
    "\n",
    "##Find the min, max and average temps reported starting in Y 2017\n",
    "sel_summary = [func.max(measurement.tobs),func.min(measurement.tobs),func.avg(measurement.tobs)]\n",
    "date_str_1 = \"2017-01-31\"\n",
    "date_str_2 = \"2017-03-01\"\n",
    "\n",
    "##results = session.query(measurement.station, measurement.tobs)(*sel_active).\\\n",
    "results = session.query(*sel_summary).\\\n",
    "    filter(measurement.date> date_str).all()\n",
    "\n",
    "print (f\"The highest, lowest and average tempurature observed in 2017 in this analysis is {results} respectively.\")\n",
    "\n",
    "#session.close()\n",
    "\n",
    "        # Create a dictionary from the row data and append to a tempurature list for Y2017\n",
    "# Y2017_temps = []\n",
    "#      for station, tobs in results:\n",
    "# #         Y2017_temp_dict = {}\n",
    "#         Y2017_temp_dict[\"station\"] = station\n",
    "#         Y2017_temp_dict[\"tobs\"] = tobs\n",
    "#         Y2017_temps.append(Y2017_temp_dict)\n",
    "\n",
    "#     return jsonify(Y2017_temps)"
   ]
  },
  {
   "cell_type": "code",
   "execution_count": 26,
   "id": "989330fb",
   "metadata": {},
   "outputs": [
    {
     "ename": "SyntaxError",
     "evalue": "'return' outside function (<ipython-input-26-f7268c91221e>, line 6)",
     "output_type": "error",
     "traceback": [
      "\u001b[1;36m  File \u001b[1;32m\"<ipython-input-26-f7268c91221e>\"\u001b[1;36m, line \u001b[1;32m6\u001b[0m\n\u001b[1;33m    return jsonify(Y2017_summary_temps)\u001b[0m\n\u001b[1;37m    ^\u001b[0m\n\u001b[1;31mSyntaxError\u001b[0m\u001b[1;31m:\u001b[0m 'return' outside function\n"
     ]
    }
   ],
   "source": [
    "\n",
    "\n",
    "Y2017_summary_temps = []\n",
    "for results in results:\n",
    "        Y2017_temp_dict = {}\n",
    "        Y2017_temp_dict[\"results\"] = results\n",
    "        Y2017_summary_temps.append(Y2017_temp_dict)\n",
    "return jsonify(Y2017_summary_temps)"
   ]
  }
 ],
 "metadata": {
  "kernelspec": {
   "display_name": "Python 3",
   "language": "python",
   "name": "python3"
  },
  "language_info": {
   "codemirror_mode": {
    "name": "ipython",
    "version": 3
   },
   "file_extension": ".py",
   "mimetype": "text/x-python",
   "name": "python",
   "nbconvert_exporter": "python",
   "pygments_lexer": "ipython3",
   "version": "3.8.8"
  }
 },
 "nbformat": 4,
 "nbformat_minor": 5
}
